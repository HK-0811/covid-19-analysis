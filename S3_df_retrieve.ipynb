{
 "cells": [
  {
   "cell_type": "code",
   "execution_count": 0,
   "metadata": {
    "application/vnd.databricks.v1+cell": {
     "cellMetadata": {
      "byteLimit": 2048000,
      "rowLimit": 10000
     },
     "inputWidgets": {},
     "nuid": "db9a93fe-bb4d-461a-a70e-80caa05f9194",
     "showTitle": false,
     "tableResultSettingsMap": {},
     "title": ""
    },
    "jupyter": {
     "outputs_hidden": true
    }
   },
   "outputs": [],
   "source": [
    "import os\n",
    "if os.system('pip install boto3'):\n",
    "  print(\"Installation Successful\")\n",
    "else:\n",
    "  print(\"Installation Failed\")"
   ]
  },
  {
   "cell_type": "code",
   "execution_count": 0,
   "metadata": {
    "application/vnd.databricks.v1+cell": {
     "cellMetadata": {
      "byteLimit": 2048000,
      "rowLimit": 10000
     },
     "inputWidgets": {},
     "nuid": "debb0809-0a5c-44fe-9ca1-c382a13ac9d5",
     "showTitle": false,
     "tableResultSettingsMap": {},
     "title": ""
    }
   },
   "outputs": [],
   "source": [
    "%restart_python"
   ]
  },
  {
   "cell_type": "code",
   "execution_count": 0,
   "metadata": {
    "application/vnd.databricks.v1+cell": {
     "cellMetadata": {
      "byteLimit": 2048000,
      "rowLimit": 10000
     },
     "inputWidgets": {},
     "nuid": "036b8b46-2eac-4b36-8100-9160df87c633",
     "showTitle": false,
     "tableResultSettingsMap": {},
     "title": ""
    }
   },
   "outputs": [],
   "source": [
    "import os\n",
    "os.environ[\"AWS_DEFAULT_REGION\"] = 'your-region'\n",
    "os.environ[\"AWS_ACCESS_KEY_ID\"] = 'access-key'\n",
    "os.environ[\"AWS_SECRET_ACCESS_KEY\"] = 'secret-key'"
   ]
  },
  {
   "cell_type": "code",
   "execution_count": 0,
   "metadata": {
    "application/vnd.databricks.v1+cell": {
     "cellMetadata": {
      "byteLimit": 2048000,
      "rowLimit": 10000
     },
     "inputWidgets": {},
     "nuid": "6819a98f-a38a-4858-a303-e0a3f6a88bab",
     "showTitle": false,
     "tableResultSettingsMap": {},
     "title": ""
    }
   },
   "outputs": [],
   "source": [
    "import boto3"
   ]
  },
  {
   "cell_type": "code",
   "execution_count": 0,
   "metadata": {
    "application/vnd.databricks.v1+cell": {
     "cellMetadata": {
      "byteLimit": 2048000,
      "rowLimit": 10000
     },
     "inputWidgets": {},
     "nuid": "5e15ab89-269f-4cfa-ab5c-638f26b28533",
     "showTitle": false,
     "tableResultSettingsMap": {},
     "title": ""
    }
   },
   "outputs": [],
   "source": [
    "s3 = boto3.resource(\n",
    "  service_name='s3',\n",
    "  region_name=os.environ[\"AWS_DEFAULT_REGION\"],\n",
    "  aws_access_key_id=os.environ[\"AWS_ACCESS_KEY_ID\"],\n",
    "  aws_secret_access_key=os.environ[\"AWS_SECRET_ACCESS_KEY\"]\n",
    ")"
   ]
  },
  {
   "cell_type": "code",
   "execution_count": 0,
   "metadata": {
    "application/vnd.databricks.v1+cell": {
     "cellMetadata": {
      "byteLimit": 2048000,
      "rowLimit": 10000
     },
     "inputWidgets": {},
     "nuid": "11a0c65b-b54b-4dd8-9dfe-edbbc61275e9",
     "showTitle": false,
     "tableResultSettingsMap": {},
     "title": ""
    }
   },
   "outputs": [
    {
     "name": "stdout",
     "output_type": "stream",
     "text": [
      "+----------+-------+-------+-----+-----+------+\n",
      "|      date| county|  state| fips|cases|deaths|\n",
      "+----------+-------+-------+-----+-----+------+\n",
      "|2021-01-01|Autauga|Alabama|01001| 4239|    50|\n",
      "|2021-01-01|Baldwin|Alabama|01003|13823|   169|\n",
      "|2021-01-01|Barbour|Alabama|01005| 1517|    33|\n",
      "|2021-01-01|   Bibb|Alabama|01007| 1854|    46|\n",
      "|2021-01-01| Blount|Alabama|01009| 4693|    63|\n",
      "+----------+-------+-------+-----+-----+------+\n",
      "only showing top 5 rows\n",
      "\n"
     ]
    },
    {
     "data": {
      "text/plain": [
       "3525161"
      ]
     },
     "execution_count": 16,
     "metadata": {},
     "output_type": "execute_result"
    }
   ],
   "source": [
    "# Get the list of parquet files in the specified folder\n",
    "parquet_paths = [f's3_path/{obj.key}' for obj in s3.Bucket(\"bukcet_name\").objects.filter(Prefix=\"folder_name\") if obj.key.endswith(\".parquet\")]\n",
    "\n",
    "# Read all the parquet files into one DataFrame\n",
    "df = spark.read.parquet(*parquet_paths)\n"
   ]
  },
  {
   "cell_type": "code",
   "execution_count": 0,
   "metadata": {
    "application/vnd.databricks.v1+cell": {
     "cellMetadata": {
      "byteLimit": 2048000,
      "rowLimit": 10000
     },
     "inputWidgets": {},
     "nuid": "e40247d9-9460-4174-845b-74e49609c611",
     "showTitle": false,
     "tableResultSettingsMap": {},
     "title": ""
    }
   },
   "outputs": [],
   "source": [
    "from pyspark.sql.functions import col\n",
    "df = df\\\n",
    "  .withColumn(\"date\", col(\"date\").cast(\"date\")) \\\n",
    "    .withColumn(\"county\", col(\"county\").cast(\"string\")) \\\n",
    "      .withColumn(\"state\", col(\"state\").cast(\"string\")) \\\n",
    "        .withColumn(\"fips\", col(\"fips\").cast(\"int\")) \\\n",
    "          .withColumn(\"cases\", col(\"cases\").cast(\"int\")) \\\n",
    "            .withColumn(\"deaths\", col(\"deaths\").cast(\"int\"))\n",
    "    "
   ]
  }
 ],
 "metadata": {
  "application/vnd.databricks.v1+notebook": {
   "dashboards": [],
   "environmentMetadata": null,
   "language": "python",
   "notebookMetadata": {
    "pythonIndentUnit": 2
   },
   "notebookName": "S3_Covid_df",
   "widgets": {}
  },
  "language_info": {
   "name": "python"
  }
 },
 "nbformat": 4,
 "nbformat_minor": 0
}
